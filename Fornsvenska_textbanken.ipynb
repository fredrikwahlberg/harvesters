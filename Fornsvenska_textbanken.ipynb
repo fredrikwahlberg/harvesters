{
 "cells": [
  {
   "cell_type": "code",
   "execution_count": 1,
   "metadata": {},
   "outputs": [],
   "source": [
    "import re\n",
    "\n",
    "baseurls = [\"\"\"https://project2.sol.lu.se/fornsvenska/A_AFsv.html\"\"\",\n",
    "           \"\"\"https://project2.sol.lu.se/fornsvenska/A_YFsv.html\"\"\"]\n"
   ]
  },
  {
   "cell_type": "code",
   "execution_count": 2,
   "metadata": {},
   "outputs": [],
   "source": [
    "import urllib.request\n",
    "\n",
    "for url in baseurls:\n",
    "    webdata = urllib.request.urlopen(url)\n",
    "    text = webdata.read().decode(\"utf-8\")"
   ]
  },
  {
   "cell_type": "code",
   "execution_count": 3,
   "metadata": {},
   "outputs": [
    {
     "name": "stdout",
     "output_type": "stream",
     "text": [
      "<!DOCTYPE HTML PUBLIC \"-//W3C//DTD HTML 4.01 Transitional//EN\">\n",
      "<html><head><meta http-equiv=\"content-type\" content=\"text/html; charset=UTF-8\"><title>ÄFsv.Lag</title><link rel=\"stylesheet\" href=\"stilmallar/stilmall.css\"></head>\n",
      "<body leftmargin=\"20\" topmargin=\"0\" bgcolor=\"white\" marginheight=\"0\" marginwidth=\"20\">\n",
      "<!--This file created 2001-12-22 19.21 by Claris Home Page version 3.0-->\n",
      "<table background=\"bilder/Bakgrund.jpg\" border=\"0\" cellpadding=\"10\" cellspacing=\"0\" width=\"640\"><tbody><tr><td>\n",
      "<div align=\"center\">\n",
      "<table border=\"0\" cellpadding=\"0\" cellspacing=\"0\" width=\"512\"><tbody><tr><td align=\"left\" valign=\"top\" width=\"512\">\n",
      "<table border=\"0\" cellpadding=\"2\" width=\"518\"><tbody><tr><td width=\"259\">\n",
      "<p><b><a href=\"#L\">L:</a> Lagar</b></p>\n",
      "</td><td width=\"259\">\n",
      "<p><b><a href=\"A_YFsv.html#R\">R: </a>Religiös prosa</b></p>\n",
      "</td></tr><tr><td width=\"259\">\n",
      "<p><b><a href=\"#D\">D: </a>Diplom, tänkeböcker m.m.</b></p>\n",
      "</td><td width=\"259\">\n",
      "<p><b><a href=\"#R\"><br></a></b></p>\n",
      "</td></tr><tr><td \n"
     ]
    }
   ],
   "source": [
    "\n",
    "text = text.replace('\\t', '').replace('\\r', '')\n",
    "for i in range(10):\n",
    "    text = text.replace('\\n\\n', '\\n')\n",
    "print(text[:1000])"
   ]
  },
  {
   "cell_type": "code",
   "execution_count": 6,
   "metadata": {},
   "outputs": [
    {
     "name": "stdout",
     "output_type": "stream",
     "text": [
      "('02_Texter/B.T2-StockholTB.html', 'B.T.2', 'Stockholms stads tänkeböcker', '1474-1520')\n",
      "  02_Texter/B.T2-StockholTB.html B.T.2 Stockholms stads tänkeböcker 1474-1520\n",
      "('02_Texter/B.T5-Kalmar.html', 'B.T.5', 'Kalmar stads tänkebok', '1381-1560')\n",
      "  02_Texter/B.T5-Kalmar.html B.T.5 Kalmar stads tänkebok 1381-1560\n",
      "('02_Texter/B.T10-Arvstvisten.html', 'B.T.10', 'Arvstvisten mellan Erik Eriksson och Ture Turesson', '1451-1480')\n",
      "  02_Texter/B.T10-Arvstvisten.html B.T.10 Arvstvisten mellan Erik Eriksson och Ture Turesson 1451-1480\n",
      "('02_Texter/B.E11-Lak-Trolle.html', 'B.E11', 'Strödda Läkedomar (Trolles lagbok)', '1440-1460')\n",
      "  02_Texter/B.E11-Lak-Trolle.html B.E11 Strödda Läkedomar (Trolles lagbok) 1440-1460\n",
      "('02_Texter/B.E12-Hastlak.html', 'B.E12', 'Hästläkedom 1 och 2', '1350-1520')\n",
      "  02_Texter/B.E12-Hastlak.html B.E12 Hästläkedom 1 och 2 1350-1520\n",
      "('02_Texter/B.E13-HimmelDagar.html', 'B.E13', 'Himmelstecken, månader och dagar', '')\n",
      "  02_Texter/B.E13-HimmelDagar.html B.E13 Himmelstecken, månader och dagar \n",
      "('02_Texter/B.P6-Did.html', 'B.P6', 'Didrik av Bern', '')\n",
      "  02_Texter/B.P6-Did.html B.P6 Didrik av Bern \n",
      "('02_Texter/B.P9-DanmarksKungar.html', 'B.P9', 'Aff Danmarks konungum', '')\n",
      "  02_Texter/B.P9-DanmarksKungar.html B.P9 Aff Danmarks konungum \n",
      "('02_Texter/B.RL-Legend.html', 'B.RL', 'Legender', '')\n",
      "  02_Texter/B.RL-Legend.html B.RL Legender \n",
      "('02_Texter/B.RP-MPost.html', 'B.RP', 'Postillor', '')\n",
      "  02_Texter/B.RP-MPost.html B.RP Postillor \n",
      "('02_Texter/B.RB-Bibel.html', 'B.RB', 'Bibelböcker', '')\n",
      "  02_Texter/B.RB-Bibel.html B.RB Bibelböcker \n",
      "('02_Texter/B.RO-Boner.html', 'B.RO', 'Böner', '')\n",
      "  02_Texter/B.RO-Boner.html B.RO Böner \n",
      "('02_Texter/B.R8-HML.html', 'B:R8', 'Helga manna leverne', '1385')\n",
      "  02_Texter/B.R8-HML.html B:R8 Helga manna leverne 1385\n",
      "('02_Texter/B.R15-BUater.html', 'B:R.15', 'Birgittas uppenbarelser', '')\n",
      "  02_Texter/B.R15-BUater.html B:R.15 Birgittas uppenbarelser \n",
      "('02_Texter/B.R28-Tungulus.html', 'B:R.28', 'Tungulus (Tundalus)', '')\n",
      "  02_Texter/B.R28-Tungulus.html B:R.28 Tungulus (Tundalus) \n",
      "('02_Texter/B.R30-SjuTidegarder.html', 'B.R.30', 'Dagens sju tidegärder', '')\n",
      "  02_Texter/B.R30-SjuTidegarder.html B.R.30 Dagens sju tidegärder \n",
      "('02_Texter/B.R35-SK.html', 'B:R35', 'Själens Kloster (Claustrum Animæ)', '1460')\n",
      "  02_Texter/B.R35-SK.html B:R35 Själens Kloster (Claustrum Animæ) 1460\n",
      "('02_Texter/B.R40-Lucid.html', 'B:R40', 'Lucidarius (översatt av Jöns Budde)', '')\n",
      "  02_Texter/B.R40-Lucid.html B:R40 Lucidarius (översatt av Jöns Budde) \n",
      "('02_Texter/B.R45-StimAm.html', 'B:R45', 'Stimulus Amoris', '')\n",
      "  02_Texter/B.R45-StimAm.html B:R45 Stimulus Amoris \n",
      "('02_Texter/B.R60-SB-GL.html', 'B.R60', 'Sankt Bernhard: Gudhelikt lifwärne', '')\n",
      "  02_Texter/B.R60-SB-GL.html B.R60 Sankt Bernhard: Gudhelikt lifwärne \n",
      "('02_Texter/B.R61-SB-Th.html', 'B.R61', 'Sankt Bernhard: Thänkilse', '')\n",
      "  02_Texter/B.R61-SB-Th.html B.R61 Sankt Bernhard: Thänkilse \n",
      "('01_Bitar/B.V10.Ordsprak.html', 'B:V10', 'Ordspråk', '')\n",
      "  01_Bitar/B.V10.Ordsprak.html B:V10 Ordspråk \n"
     ]
    }
   ],
   "source": [
    "row = r'<tr[^>]*>.*?<td[^>]*>.*?<a\\s*href=\\\"(.*?)\\\"[^>]*>(.*?)</a>.*?</td>.*?<td[^>]*>(.*?)</td>.*?<td[^>]*>(.*?)</td>.*?</tr>'\n",
    "data = re.findall(row, text, flags=re.IGNORECASE+re.MULTILINE)\n",
    "for d in data:\n",
    "    print(d)\n",
    "    code = d[1]\n",
    "    url = d[0]\n",
    "    title = d[2]\n",
    "    date = d[3]\n",
    "    print(\" \", url, code, title, date)"
   ]
  }
 ],
 "metadata": {
  "kernelspec": {
   "display_name": "Python 3",
   "language": "python",
   "name": "python3"
  },
  "language_info": {
   "codemirror_mode": {
    "name": "ipython",
    "version": 3
   },
   "file_extension": ".py",
   "mimetype": "text/x-python",
   "name": "python",
   "nbconvert_exporter": "python",
   "pygments_lexer": "ipython3",
   "version": "3.7.1"
  }
 },
 "nbformat": 4,
 "nbformat_minor": 2
}
